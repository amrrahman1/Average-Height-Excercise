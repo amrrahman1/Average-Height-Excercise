{
  "nbformat": 4,
  "nbformat_minor": 0,
  "metadata": {
    "colab": {
      "name": "Copy of Average height.ipynb",
      "provenance": [],
      "machine_shape": "hm",
      "authorship_tag": "ABX9TyOLplc2KgilEE3jO8+opW66",
      "include_colab_link": true
    },
    "kernelspec": {
      "display_name": "Python 3",
      "name": "python3"
    },
    "language_info": {
      "name": "python"
    }
  },
  "cells": [
    {
      "cell_type": "markdown",
      "metadata": {
        "id": "view-in-github",
        "colab_type": "text"
      },
      "source": [
        "<a href=\"https://colab.research.google.com/github/amrrahman1/Average-Height-Excercise/blob/main/Copy_of_Average_height.ipynb\" target=\"_parent\"><img src=\"https://colab.research.google.com/assets/colab-badge.svg\" alt=\"Open In Colab\"/></a>"
      ]
    },
    {
      "cell_type": "code",
      "metadata": {
        "colab": {
          "base_uri": "https://localhost:8080/"
        },
        "id": "lXK9bXqWUxAv",
        "outputId": "5155cdfe-ae4a-4565-8f8d-77c27f36ba24"
      },
      "source": [
        "from google.colab import drive\n",
        "drive.mount('/content/drive')"
      ],
      "execution_count": 6,
      "outputs": [
        {
          "output_type": "stream",
          "name": "stdout",
          "text": [
            "Mounted at /content/drive\n"
          ]
        }
      ]
    },
    {
      "cell_type": "code",
      "metadata": {
        "id": "ZuqmEXmQU3zm"
      },
      "source": [
        "import pandas as pd"
      ],
      "execution_count": 7,
      "outputs": []
    },
    {
      "cell_type": "code",
      "metadata": {
        "id": "UdCLid57VKHB"
      },
      "source": [
        "filename = '/content/drive/MyDrive/athleteEventsNoPersonal.csv'"
      ],
      "execution_count": 8,
      "outputs": []
    },
    {
      "cell_type": "code",
      "metadata": {
        "id": "YLtheHUCVbmv"
      },
      "source": [
        "df = pd.read_csv(filename)"
      ],
      "execution_count": 9,
      "outputs": []
    },
    {
      "cell_type": "code",
      "metadata": {
        "colab": {
          "base_uri": "https://localhost:8080/",
          "height": 204
        },
        "id": "U9zoN0voVeoe",
        "outputId": "acbd2ecf-3c22-489c-f6f3-16baa7e484ba"
      },
      "source": [
        "df.head()"
      ],
      "execution_count": 10,
      "outputs": [
        {
          "output_type": "execute_result",
          "data": {
            "text/html": [
              "<div>\n",
              "<style scoped>\n",
              "    .dataframe tbody tr th:only-of-type {\n",
              "        vertical-align: middle;\n",
              "    }\n",
              "\n",
              "    .dataframe tbody tr th {\n",
              "        vertical-align: top;\n",
              "    }\n",
              "\n",
              "    .dataframe thead th {\n",
              "        text-align: right;\n",
              "    }\n",
              "</style>\n",
              "<table border=\"1\" class=\"dataframe\">\n",
              "  <thead>\n",
              "    <tr style=\"text-align: right;\">\n",
              "      <th></th>\n",
              "      <th>ID</th>\n",
              "      <th>Age</th>\n",
              "      <th>Height</th>\n",
              "      <th>Team</th>\n",
              "      <th>NOC</th>\n",
              "      <th>Games</th>\n",
              "      <th>Year</th>\n",
              "      <th>Season</th>\n",
              "      <th>City</th>\n",
              "      <th>Sport</th>\n",
              "      <th>Event</th>\n",
              "      <th>Medal</th>\n",
              "    </tr>\n",
              "  </thead>\n",
              "  <tbody>\n",
              "    <tr>\n",
              "      <th>0</th>\n",
              "      <td>5</td>\n",
              "      <td>21.0</td>\n",
              "      <td>185.0</td>\n",
              "      <td>Netherlands</td>\n",
              "      <td>NED</td>\n",
              "      <td>1988 Winter</td>\n",
              "      <td>1988</td>\n",
              "      <td>Winter</td>\n",
              "      <td>Calgary</td>\n",
              "      <td>Speed Skating</td>\n",
              "      <td>Speed Skating Women's 500 metres</td>\n",
              "      <td>NaN</td>\n",
              "    </tr>\n",
              "    <tr>\n",
              "      <th>1</th>\n",
              "      <td>5</td>\n",
              "      <td>21.0</td>\n",
              "      <td>185.0</td>\n",
              "      <td>Netherlands</td>\n",
              "      <td>NED</td>\n",
              "      <td>1988 Winter</td>\n",
              "      <td>1988</td>\n",
              "      <td>Winter</td>\n",
              "      <td>Calgary</td>\n",
              "      <td>Speed Skating</td>\n",
              "      <td>Speed Skating Women's 1,000 metres</td>\n",
              "      <td>NaN</td>\n",
              "    </tr>\n",
              "    <tr>\n",
              "      <th>2</th>\n",
              "      <td>5</td>\n",
              "      <td>25.0</td>\n",
              "      <td>185.0</td>\n",
              "      <td>Netherlands</td>\n",
              "      <td>NED</td>\n",
              "      <td>1992 Winter</td>\n",
              "      <td>1992</td>\n",
              "      <td>Winter</td>\n",
              "      <td>Albertville</td>\n",
              "      <td>Speed Skating</td>\n",
              "      <td>Speed Skating Women's 500 metres</td>\n",
              "      <td>NaN</td>\n",
              "    </tr>\n",
              "    <tr>\n",
              "      <th>3</th>\n",
              "      <td>5</td>\n",
              "      <td>25.0</td>\n",
              "      <td>185.0</td>\n",
              "      <td>Netherlands</td>\n",
              "      <td>NED</td>\n",
              "      <td>1992 Winter</td>\n",
              "      <td>1992</td>\n",
              "      <td>Winter</td>\n",
              "      <td>Albertville</td>\n",
              "      <td>Speed Skating</td>\n",
              "      <td>Speed Skating Women's 1,000 metres</td>\n",
              "      <td>NaN</td>\n",
              "    </tr>\n",
              "    <tr>\n",
              "      <th>4</th>\n",
              "      <td>5</td>\n",
              "      <td>27.0</td>\n",
              "      <td>185.0</td>\n",
              "      <td>Netherlands</td>\n",
              "      <td>NED</td>\n",
              "      <td>1994 Winter</td>\n",
              "      <td>1994</td>\n",
              "      <td>Winter</td>\n",
              "      <td>Lillehammer</td>\n",
              "      <td>Speed Skating</td>\n",
              "      <td>Speed Skating Women's 500 metres</td>\n",
              "      <td>NaN</td>\n",
              "    </tr>\n",
              "  </tbody>\n",
              "</table>\n",
              "</div>"
            ],
            "text/plain": [
              "   ID   Age  Height  ...          Sport                               Event Medal\n",
              "0   5  21.0   185.0  ...  Speed Skating    Speed Skating Women's 500 metres   NaN\n",
              "1   5  21.0   185.0  ...  Speed Skating  Speed Skating Women's 1,000 metres   NaN\n",
              "2   5  25.0   185.0  ...  Speed Skating    Speed Skating Women's 500 metres   NaN\n",
              "3   5  25.0   185.0  ...  Speed Skating  Speed Skating Women's 1,000 metres   NaN\n",
              "4   5  27.0   185.0  ...  Speed Skating    Speed Skating Women's 500 metres   NaN\n",
              "\n",
              "[5 rows x 12 columns]"
            ]
          },
          "metadata": {},
          "execution_count": 10
        }
      ]
    },
    {
      "cell_type": "code",
      "metadata": {
        "colab": {
          "base_uri": "https://localhost:8080/"
        },
        "id": "TW9tkyr2VgHB",
        "outputId": "5107296b-c594-47f7-9e1d-f226a6cddf8f"
      },
      "source": [
        "#1. Load this dataset and explore it! Answer the following questions:\n",
        "#(a). How many rows?\n",
        "len(df)"
      ],
      "execution_count": 11,
      "outputs": [
        {
          "output_type": "execute_result",
          "data": {
            "text/plain": [
              "40616"
            ]
          },
          "metadata": {},
          "execution_count": 11
        }
      ]
    },
    {
      "cell_type": "code",
      "metadata": {
        "colab": {
          "base_uri": "https://localhost:8080/"
        },
        "id": "Ri2CseUZVt6K",
        "outputId": "4417554b-8283-498c-af96-e57cbc159efc"
      },
      "source": [
        "#(b)How many columns?\n",
        "len(df.columns)"
      ],
      "execution_count": 12,
      "outputs": [
        {
          "output_type": "execute_result",
          "data": {
            "text/plain": [
              "12"
            ]
          },
          "metadata": {},
          "execution_count": 12
        }
      ]
    },
    {
      "cell_type": "code",
      "metadata": {
        "colab": {
          "base_uri": "https://localhost:8080/"
        },
        "id": "Znmk0PLyWBJV",
        "outputId": "8dcee81b-43e7-4d38-ecf6-54f6e5fec7d5"
      },
      "source": [
        "# a&b togeather Which columns have missing values? (Why do think there are there so many null values in the Medals column?)\n",
        "df.shape"
      ],
      "execution_count": 13,
      "outputs": [
        {
          "output_type": "execute_result",
          "data": {
            "text/plain": [
              "(40616, 12)"
            ]
          },
          "metadata": {},
          "execution_count": 13
        }
      ]
    },
    {
      "cell_type": "code",
      "metadata": {
        "colab": {
          "base_uri": "https://localhost:8080/"
        },
        "id": "J2D8fdwjWlfQ",
        "outputId": "0c1daff6-e38a-475d-d5ce-bea88795bf13"
      },
      "source": [
        "# (c)\n",
        "#Which columns have missing values? (Why do think there are there so many null values in the Medals column?)\n",
        "#Answer : There are so many null valuses in the medal columns because there was no medal won.\n",
        "df.isnull().sum()"
      ],
      "execution_count": 14,
      "outputs": [
        {
          "output_type": "execute_result",
          "data": {
            "text/plain": [
              "ID            0\n",
              "Age        1473\n",
              "Height     9001\n",
              "Team          0\n",
              "NOC           0\n",
              "Games         0\n",
              "Year          0\n",
              "Season        0\n",
              "City          0\n",
              "Sport         0\n",
              "Event         0\n",
              "Medal     34699\n",
              "dtype: int64"
            ]
          },
          "metadata": {},
          "execution_count": 14
        }
      ]
    },
    {
      "cell_type": "code",
      "metadata": {
        "id": "Gpe8bxHFXIdq"
      },
      "source": [
        "# (D) How many entries correspond to the city of London?\n",
        "london_filter =df['City']=='London'\n"
      ],
      "execution_count": 15,
      "outputs": []
    },
    {
      "cell_type": "code",
      "metadata": {
        "colab": {
          "base_uri": "https://localhost:8080/"
        },
        "id": "GB7Rdt1kY4GJ",
        "outputId": "e8751688-d2e8-484e-bb38-14e7728e1353"
      },
      "source": [
        "# Answer : no od entries is 40616\n",
        "len(london_filter)"
      ],
      "execution_count": 16,
      "outputs": [
        {
          "output_type": "execute_result",
          "data": {
            "text/plain": [
              "40616"
            ]
          },
          "metadata": {},
          "execution_count": 16
        }
      ]
    },
    {
      "cell_type": "code",
      "metadata": {
        "colab": {
          "base_uri": "https://localhost:8080/"
        },
        "id": "ot6_Rf8nasHK",
        "outputId": "df4f6a39-e905-4c28-c26f-55aedaf228c8"
      },
      "source": [
        "#   e. What age is the youngest athlete in our sample data?  Hint: use min()\n",
        "# Answer is 11 years old\n",
        "df['Age'].min()"
      ],
      "execution_count": 17,
      "outputs": [
        {
          "output_type": "execute_result",
          "data": {
            "text/plain": [
              "11.0"
            ]
          },
          "metadata": {},
          "execution_count": 17
        }
      ]
    },
    {
      "cell_type": "code",
      "metadata": {
        "colab": {
          "base_uri": "https://localhost:8080/"
        },
        "id": "gXUkS3bUbhjm",
        "outputId": "3289da55-8aac-4f33-e74f-02e5a34dd6e9"
      },
      "source": [
        "#2. Create filters to find out:\n",
        "#(a) How many athletes who participated in the Sport \"Tug-Of-War\" were from Team \"Sweden\" in our sample dataset? \n",
        "# Answer : 1132\n",
        "tug_war_sweden = df.loc[(df.Team == 'Sweden')] \n",
        "len(tug_war_sweden)"
      ],
      "execution_count": 18,
      "outputs": [
        {
          "output_type": "execute_result",
          "data": {
            "text/plain": [
              "1132"
            ]
          },
          "metadata": {},
          "execution_count": 18
        }
      ]
    },
    {
      "cell_type": "code",
      "metadata": {
        "id": "1Fj8ymfXeD80",
        "colab": {
          "base_uri": "https://localhost:8080/"
        },
        "outputId": "1914e911-6719-4941-b4ce-731872c2f5c4"
      },
      "source": [
        "# b. How many Gold medals were awarded to athletes who were over 40 years old?\n",
        "age_filter = df['Age'] > 40\n",
        "medal_filter = df['Medal'] == 'Gold'\n",
        "new_filter =df.loc[age_filter & medal_filter] \n",
        "new_filter['Medal'].count()"
      ],
      "execution_count": 26,
      "outputs": [
        {
          "output_type": "execute_result",
          "data": {
            "text/plain": [
              "66"
            ]
          },
          "metadata": {},
          "execution_count": 26
        }
      ]
    },
    {
      "cell_type": "code",
      "metadata": {
        "id": "vkAOhQrQtKPR",
        "colab": {
          "base_uri": "https://localhost:8080/"
        },
        "outputId": "1bd66e4b-c203-4344-f012-485cb6b59783"
      },
      "source": [
        "#3. Determine the average height of:\n",
        "#  a. All rows included.\n",
        "df['Height'].mean()"
      ],
      "execution_count": 33,
      "outputs": [
        {
          "output_type": "execute_result",
          "data": {
            "text/plain": [
              "175.3811165585956"
            ]
          },
          "metadata": {},
          "execution_count": 33
        }
      ]
    },
    {
      "cell_type": "code",
      "metadata": {
        "colab": {
          "base_uri": "https://localhost:8080/"
        },
        "id": "eDMR6ufWx_TZ",
        "outputId": "8813340a-fa8e-4530-c6ee-32a8065327a6"
      },
      "source": [
        "# b. All rows included, but grouped by Event.\n",
        "df_group_by_event = df.groupby('Event')\n",
        "df_group_by_event['Height'].mean()"
      ],
      "execution_count": 40,
      "outputs": [
        {
          "output_type": "execute_result",
          "data": {
            "text/plain": [
              "Event\n",
              "Alpine Skiing Men's Combined                      178.547170\n",
              "Alpine Skiing Men's Downhill                      178.211679\n",
              "Alpine Skiing Men's Giant Slalom                  176.739394\n",
              "Alpine Skiing Men's Slalom                        176.482143\n",
              "Alpine Skiing Men's Super G                       179.850575\n",
              "                                                     ...    \n",
              "Wrestling Women's Flyweight, Freestyle            158.100000\n",
              "Wrestling Women's Heavyweight, Freestyle          173.444444\n",
              "Wrestling Women's Light-Heavyweight, Freestyle    170.000000\n",
              "Wrestling Women's Lightweight, Freestyle          162.666667\n",
              "Wrestling Women's Middleweight, Freestyle         164.533333\n",
              "Name: Height, Length: 726, dtype: float64"
            ]
          },
          "metadata": {},
          "execution_count": 40
        }
      ]
    },
    {
      "cell_type": "code",
      "metadata": {
        "colab": {
          "base_uri": "https://localhost:8080/"
        },
        "id": "Yw-_7VcZzDyw",
        "outputId": "92fe4d50-ac0f-44da-e944-ee7be0c2e345"
      },
      "source": [
        "#  c. Bonus\n",
        "df['ID'].value_counts\n"
      ],
      "execution_count": 36,
      "outputs": [
        {
          "output_type": "execute_result",
          "data": {
            "text/plain": [
              "<bound method IndexOpsMixin.value_counts of 0             5\n",
              "1             5\n",
              "2             5\n",
              "3             5\n",
              "4             5\n",
              "          ...  \n",
              "40611    135567\n",
              "40612    135570\n",
              "40613    135570\n",
              "40614    135571\n",
              "40615    135571\n",
              "Name: ID, Length: 40616, dtype: int64>"
            ]
          },
          "metadata": {},
          "execution_count": 36
        }
      ]
    },
    {
      "cell_type": "code",
      "metadata": {
        "id": "YJPP6_xm3EWb",
        "outputId": "02a8c12a-3ea0-4728-9c51-1bd21668e46d",
        "colab": {
          "base_uri": "https://localhost:8080/"
        }
      },
      "source": [
        "one_per_athlete = df.drop_duplicates(subset = 'ID', keep = 'first')\n",
        "one_per_athlete['Height'].mean()"
      ],
      "execution_count": 37,
      "outputs": [
        {
          "output_type": "execute_result",
          "data": {
            "text/plain": [
              "176.31818479042698"
            ]
          },
          "metadata": {},
          "execution_count": 37
        }
      ]
    },
    {
      "cell_type": "code",
      "metadata": {
        "id": "Jrzxq7BM3fTm"
      },
      "source": [
        ""
      ],
      "execution_count": null,
      "outputs": []
    },
    {
      "cell_type": "code",
      "metadata": {
        "id": "_r8mdKmX3rRL"
      },
      "source": [
        ""
      ],
      "execution_count": null,
      "outputs": []
    }
  ]
}